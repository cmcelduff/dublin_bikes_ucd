{
 "cells": [
  {
   "cell_type": "code",
   "execution_count": 1,
   "id": "c74f9018",
   "metadata": {},
   "outputs": [],
   "source": [
    "from joblib import dump, load"
   ]
  },
  {
   "cell_type": "code",
   "execution_count": 4,
   "id": "6dc86cc0",
   "metadata": {},
   "outputs": [],
   "source": [
    "model = loaded_model = load('four_feature_prediction.joblib')"
   ]
  },
  {
   "cell_type": "markdown",
   "id": "e75b793c",
   "metadata": {},
   "source": [
    "## This model prediction will not be used\n",
    "### - This is a starting point for predicting the future day and hour\n",
    "### - Possible to use the model without having the wind_speed in the predictions"
   ]
  },
  {
   "cell_type": "markdown",
   "id": "13d0b956",
   "metadata": {},
   "source": [
    "# Model Prediction for 4 features "
   ]
  },
  {
   "cell_type": "markdown",
   "id": "3109b897",
   "metadata": {},
   "source": [
    "## 'number', 'wind_speed', 'DayName', 'Hour_of_Day'\n",
    "## predicting available bike stands"
   ]
  },
  {
   "cell_type": "code",
   "execution_count": 6,
   "id": "24111e8d",
   "metadata": {},
   "outputs": [
    {
     "name": "stderr",
     "output_type": "stream",
     "text": [
      "/Users/conormcelduff/opt/anaconda3/envs/comp30830/lib/python3.10/site-packages/sklearn/base.py:439: UserWarning: X does not have valid feature names, but RandomForestRegressor was fitted with feature names\n",
      "  warnings.warn(\n"
     ]
    },
    {
     "data": {
      "text/plain": [
       "array([25.37047619])"
      ]
     },
     "execution_count": 6,
     "metadata": {},
     "output_type": "execute_result"
    }
   ],
   "source": [
    "model.predict([[108,4.35,3,16]])"
   ]
  },
  {
   "cell_type": "markdown",
   "id": "868e1a03",
   "metadata": {},
   "source": [
    "### No need for the use of wind_speed in the predictions\n",
    "### Change between the prediction is minimal and we will not be asking for the user to define a wind_speed on the application\n",
    "### Otherwise, we will be using a fixed value for both the temperature and the wind_speed"
   ]
  },
  {
   "cell_type": "code",
   "execution_count": null,
   "id": "bdff8f07",
   "metadata": {},
   "outputs": [],
   "source": []
  }
 ],
 "metadata": {
  "kernelspec": {
   "display_name": "Python 3 (ipykernel)",
   "language": "python",
   "name": "python3"
  },
  "language_info": {
   "codemirror_mode": {
    "name": "ipython",
    "version": 3
   },
   "file_extension": ".py",
   "mimetype": "text/x-python",
   "name": "python",
   "nbconvert_exporter": "python",
   "pygments_lexer": "ipython3",
   "version": "3.10.9"
  }
 },
 "nbformat": 4,
 "nbformat_minor": 5
}
